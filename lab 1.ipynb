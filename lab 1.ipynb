{
 "cells": [
  {
   "cell_type": "code",
   "execution_count": 1,
   "id": "0be8dbde",
   "metadata": {},
   "outputs": [],
   "source": [
    "import numpy as np\n",
    "import matplotlib.pyplot as plt\n",
    "import seaborn as sns\n",
    "import scipy\n",
    "from math import *"
   ]
  },
  {
   "cell_type": "code",
   "execution_count": 2,
   "id": "b64a4980",
   "metadata": {},
   "outputs": [],
   "source": [
    "def func(x):\n",
    "    return x**3 - 3 * sin(x)\n",
    "\n",
    "def deriv1(x):\n",
    "    return 3*x**2 - 3*cos(x)"
   ]
  },
  {
   "cell_type": "code",
   "execution_count": 3,
   "id": "bf6eb764",
   "metadata": {},
   "outputs": [
    {
     "data": {
      "text/plain": [
       "  message: Optimization terminated successfully.\n",
       "  success: True\n",
       "   status: 0\n",
       "      fun: -1.642130412914144\n",
       "        x: [ 8.241e-01]\n",
       "      nit: 3\n",
       "      jac: [ 1.073e-06]\n",
       " hess_inv: [[ 1.398e-01]]\n",
       "     nfev: 10\n",
       "     njev: 5"
      ]
     },
     "execution_count": 3,
     "metadata": {},
     "output_type": "execute_result"
    }
   ],
   "source": [
    "f = np.vectorize(func)\n",
    "minimum = scipy.optimize.minimize(f, 1)\n",
    "minimum"
   ]
  },
  {
   "cell_type": "code",
   "execution_count": 4,
   "id": "1fe59e95",
   "metadata": {},
   "outputs": [
    {
     "name": "stdout",
     "output_type": "stream",
     "text": [
      "(0.8241323111380852, -1.6421304129142098, 10, 13) 0.8241324484434951\n"
     ]
    }
   ],
   "source": [
    "minimal_brent = scipy.optimize.brent(func, brack = (0,1), full_output = True)\n",
    "print(minimal_brent, minimum['x'][0])"
   ]
  },
  {
   "cell_type": "code",
   "execution_count": 5,
   "id": "04f5e162-2112-43fc-84f7-59aee86733f7",
   "metadata": {},
   "outputs": [
    {
     "data": {
      "image/png": "[encoded data removed]",
      "text/plain": [
       "<Figure size 640x480 with 1 Axes>"
      ]
     },
     "metadata": {},
     "output_type": "display_data"
    }
   ],
   "source": [
    "x = np.arange(0, 1, 0.001)\n",
    "plt.plot(x, f(x))\n",
    "plt.scatter(minimum['x'], minimum['fun'], color = 'red')\n",
    "plt.scatter(minimal_brent[0], minimal_brent[1], color = 'green')\n",
    "plt.grid(True)"
   ]
  },
  {
   "cell_type": "markdown",
   "id": "70fe1365-ea19-4ab1-8415-086957f53f49",
   "metadata": {},
   "source": [
    "3 задание"
   ]
  },
  {
   "cell_type": "code",
   "execution_count": 17,
   "id": "fb0ee451-1e2c-48f2-bc93-6ea77c682b35",
   "metadata": {},
   "outputs": [],
   "source": [
    "def porazr(fun,a,b,p = 100,eps = 10**-6):\n",
    "    h = (b-a)/p\n",
    "    x = a\n",
    "    f0 = fun(x)\n",
    "    f1 = fun(x+h)\n",
    "    x+=h\n",
    "    while(f1 < f0 and x < b):\n",
    "#         print(f1,f0, x+h, func(x+h))\n",
    "        f0 = f1\n",
    "        x +=h\n",
    "        f1 = fun(x)   \n",
    "    \n",
    "    h = eps\n",
    "    f0 = f1\n",
    "    x -=h\n",
    "    f1 = fun(x)\n",
    "#     print(f0,f1,x)\n",
    "    \n",
    "    while(f1 <= f0 and x >= a):\n",
    "        f0 = f1\n",
    "        x -= h\n",
    "        f1 = fun(x)\n",
    "        #print(f0,f1, x)\n",
    "    else:\n",
    "        return x,f1"
   ]
  },
  {
   "cell_type": "code",
   "execution_count": 24,
   "id": "46265de9",
   "metadata": {},
   "outputs": [],
   "source": [
    "def polyline_method(f, df,a,b,eps):\n",
    "    minf = a\n",
    "    k,m = 0, 5\n",
    "    L = 0\n",
    "    xxx = np.linspace(a,b, 100)\n",
    "    for x in xxx:\n",
    "        if abs(df(x))>L:\n",
    "            L=abs(df(x))\n",
    "            m+=1\n",
    "    while True:\n",
    "        x=(f(a)-f(b)+L*(a+b))/(2*L)\n",
    "        p=(f(a)+f(b)-L*(a-b))/2\n",
    "        d =(f(x)-p)/(2*L)\n",
    "        x1 =x-d\n",
    "        x2=x+d\n",
    "        k+-1\n",
    "        m += 5\n",
    "        if abs(x2- x1)< eps:\n",
    "            minf =f(x)\n",
    "            break\n",
    "        elif(f(x1)<f(x2)):\n",
    "            a=x\n",
    "        else:\n",
    "            b=x\n",
    "    return x,k,m"
   ]
  },
  {
   "cell_type": "code",
   "execution_count": 25,
   "id": "71e86b2e",
   "metadata": {},
   "outputs": [
    {
     "data": {
      "text/plain": [
       "(0.8241309999999469, -1.6421304129080565)"
      ]
     },
     "execution_count": 25,
     "metadata": {},
     "output_type": "execute_result"
    }
   ],
   "source": [
    "porazr(func,0,1,500)"
   ]
  },
  {
   "cell_type": "code",
   "execution_count": 26,
   "id": "1ee8f49e",
   "metadata": {},
   "outputs": [
    {
     "data": {
      "text/plain": [
       "(0.8241326313027102, 0, 101)"
      ]
     },
     "execution_count": 26,
     "metadata": {},
     "output_type": "execute_result"
    }
   ],
   "source": [
    "polyline_method(func, deriv1, 0,1,10**-6)"
   ]
  },
  {
   "cell_type": "code",
   "execution_count": null,
   "id": "2d74542c",
   "metadata": {},
   "outputs": [],
   "source": []
  }
 ],
 "metadata": {
  "kernelspec": {
   "display_name": "Python 3 (ipykernel)",
   "language": "python",
   "name": "python3"
  },
  "language_info": {
   "codemirror_mode": {
    "name": "ipython",
    "version": 3
   },
   "file_extension": ".py",
   "mimetype": "text/x-python",
   "name": "python",
   "nbconvert_exporter": "python",
   "pygments_lexer": "ipython3",
   "version": "3.10.1"
  }
 },
 "nbformat": 4,
 "nbformat_minor": 5
}
