{
 "cells": [
  {
   "cell_type": "code",
   "execution_count": 6,
   "id": "0be8dbde",
   "metadata": {},
   "outputs": [],
   "source": [
    "import numpy as np\n",
    "import seaborn as sns\n",
    "import scipy\n",
    "from math import *"
   ]
  },
  {
   "cell_type": "code",
   "execution_count": 20,
   "id": "b64a4980",
   "metadata": {},
   "outputs": [],
   "source": [
    "def func(x):\n",
    "    return x**3 - 3 * sin(x)\n",
    "\n",
    "def deriv1(x):\n",
    "    return 3*x**2 - 3*cos(x)"
   ]
  },
  {
   "cell_type": "code",
   "execution_count": 23,
   "id": "bf6eb764",
   "metadata": {},
   "outputs": [
    {
     "data": {
      "text/plain": [
       "  message: Optimization terminated successfully.\n",
       "  success: True\n",
       "   status: 0\n",
       "      fun: -1.642130412914144\n",
       "        x: [ 8.241e-01]\n",
       "      nit: 3\n",
       "      jac: [ 1.073e-06]\n",
       " hess_inv: [[ 1.398e-01]]\n",
       "     nfev: 10\n",
       "     njev: 5"
      ]
     },
     "execution_count": 23,
     "metadata": {},
     "output_type": "execute_result"
    }
   ],
   "source": [
    "f = np.vectorize(func)\n",
    "minimum = scipy.optimize.minimize(f, 1)\n",
    "minimum"
   ]
  },
  {
   "cell_type": "code",
   "execution_count": null,
   "id": "1fe59e95",
   "metadata": {},
   "outputs": [],
   "source": []
  }
 ],
 "metadata": {
  "kernelspec": {
   "display_name": "Python 3 (ipykernel)",
   "language": "python",
   "name": "python3"
  },
  "language_info": {
   "codemirror_mode": {
    "name": "ipython",
    "version": 3
   },
   "file_extension": ".py",
   "mimetype": "text/x-python",
   "name": "python",
   "nbconvert_exporter": "python",
   "pygments_lexer": "ipython3",
   "version": "3.10.1"
  }
 },
 "nbformat": 4,
 "nbformat_minor": 5
}
